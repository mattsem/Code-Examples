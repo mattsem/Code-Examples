{
 "cells": [
  {
   "cell_type": "markdown",
   "id": "50f70b8f",
   "metadata": {},
   "source": [
    "# Question 1"
   ]
  },
  {
   "cell_type": "markdown",
   "id": "8591e1a5",
   "metadata": {},
   "source": [
    "You've caught two of your fellow minions passing coded notes back and forth -- while they're on duty, no less! Worse, you're pretty sure it's not job-related -- they're both huge fans of the space soap opera \"\"Lance & Janice\"\". You know how much Commander Lambda hates waste, so if you can prove that these minions are wasting time passing non-job-related notes, it'll put you that much closer to a promotion. \n",
    "\n",
    "Fortunately for you, the minions aren't exactly advanced cryptographers. In their code, every lowercase letter [a..z] is replaced with the corresponding one in [z..a], while every other character (including uppercase letters and punctuation) is left untouched.  That is, 'a' becomes 'z', 'b' becomes 'y', 'c' becomes 'x', etc.  For instance, the word \"\"vmxibkgrlm\"\", when decoded, would become \"\"encryption\"\".\n",
    "\n",
    "Write a function called solution(s) which takes in a string and returns the deciphered string so you can show the commander proof that these minions are talking about \"\"Lance & Janice\"\" instead of doing their jobs.\n",
    "\n",
    "Languages\n",
    "=========\n",
    "\n",
    "To provide a Python solution, edit solution.py\n",
    "To provide a Java solution, edit Solution.java\n",
    "\n",
    "Test cases\n",
    "==========\n",
    "Your code should pass the following test cases.\n",
    "Note that it may also be run against hidden test cases not shown here.\n",
    "\n",
    "-- Python cases --\n",
    "Input:\n",
    "solution.solution(\"wrw blf hvv ozhg mrtsg'h vkrhlwv?\")\n",
    "Output:\n",
    "    did you see last night's episode?\n",
    "\n",
    "Input:\n",
    "solution.solution(\"Yvzs! I xzm'g yvorvev Lzmxv olhg srh qly zg gsv xlolmb!!\")\n",
    "Output:\n",
    "    Yeah! I can't believe Lance lost his job at the colony!!\n",
    "\n",
    "-- Java cases --\n",
    "Input:\n",
    "Solution.solution(\"Yvzs! I xzm'g yvorvev Lzmxv olhg srh qly zg gsv xlolmb!!\")\n",
    "Output:\n",
    "    Yeah! I can't believe Lance lost his job at the colony!!\n",
    "\n",
    "Input:\n",
    "Solution.solution(\"wrw blf hvv ozhg mrtsg'h vkrhlwv?\")\n",
    "Output:\n",
    "    did you see last night's episode?"
   ]
  },
  {
   "cell_type": "markdown",
   "id": "46a38d85",
   "metadata": {},
   "source": [
    "# Solution"
   ]
  },
  {
   "cell_type": "code",
   "execution_count": 28,
   "id": "0698eff2",
   "metadata": {},
   "outputs": [
    {
     "name": "stdout",
     "output_type": "stream",
     "text": [
      "Yeah! I can't believe Lance lost his job at the colony!!\n"
     ]
    }
   ],
   "source": [
    "def solution(x):\n",
    "    d = {}\n",
    "    alph = 'abcdefghijklmnopqrstuvwxyz'\n",
    "    revAlph = alph[::-1]\n",
    "    \n",
    "    for i in range(len(alph)):\n",
    "        d[alph[i]] = revAlph[i]\n",
    "    \n",
    "    \n",
    "    sol = ''\n",
    "    \n",
    "    for letter in x:\n",
    "        if(letter in alph):\n",
    "            sol += d.get(letter)\n",
    "        else:\n",
    "            sol += letter\n",
    "    return sol\n",
    "                         \n",
    "print(solution(\"Yvzs! I xzm'g yvorvev Lzmxv olhg srh qly zg gsv xlolmb!!\"))"
   ]
  },
  {
   "cell_type": "markdown",
   "id": "2d48783a",
   "metadata": {},
   "source": [
    "# Question 2"
   ]
  },
  {
   "cell_type": "markdown",
   "id": "eeea5293",
   "metadata": {},
   "source": [
    "Power Hungry\n",
    "============\n",
    "\n",
    "Commander Lambda's space station is HUGE. And huge space stations take a LOT of power. Huge space stations with doomsday devices take even more power. To help meet the station's power needs, Commander Lambda has installed solar panels on the station's outer surface. But the station sits in the middle of a quasar quantum flux field, which wreaks havoc on the solar panels. You and your team of henchmen have been assigned to repair the solar panels, but you'd rather not take down all of the panels at once if you can help it, since they do help power the space station and all!\n",
    "\n",
    "You need to figure out which sets of panels in any given array you can take offline to repair while still maintaining the maximum amount of power output per array, and to do THAT, you'll first need to figure out what the maximum output of each array actually is. Write a function solution(xs) that takes a list of integers representing the power output levels of each panel in an array, and returns the maximum product of some non-empty subset of those numbers. So for example, if an array contained panels with power output levels of [2, -3, 1, 0, -5], then the maximum product would be found by taking the subset: xs[0] = 2, xs[1] = -3, xs[4] = -5, giving the product 2*(-3)*(-5) = 30.  So solution([2,-3,1,0,-5]) will be \"30\".\n",
    "\n",
    "Each array of solar panels contains at least 1 and no more than 50 panels, and each panel will have a power output level whose absolute value is no greater than 1000 (some panels are malfunctioning so badly that they're draining energy, but you know a trick with the panels' wave stabilizer that lets you combine two negative-output panels to produce the positive output of the multiple of their power values). The final products may be very large, so give the solution as a string representation of the number.\n",
    "\n",
    "Languages\n",
    "=========\n",
    "\n",
    "To provide a Python solution, edit solution.py\n",
    "To provide a Java solution, edit Solution.java\n",
    "\n",
    "Test cases\n",
    "==========\n",
    "Your code should pass the following test cases.\n",
    "Note that it may also be run against hidden test cases not shown here.\n",
    "\n",
    "-- Python cases --\n",
    "Input:\n",
    "solution.solution([2, 0, 2, 2, 0])\n",
    "Output:\n",
    "    8\n",
    "\n",
    "Input:\n",
    "solution.solution([-2, -3, 4, -5])\n",
    "Output:\n",
    "    60\n",
    "\n",
    "-- Java cases --\n",
    "Input:\n",
    "Solution.solution({2, 0, 2, 2, 0})\n",
    "Output:\n",
    "    8\n",
    "\n",
    "Input:\n",
    "Solution.solution({-2, -3, 4, -5})\n",
    "Output:\n",
    "    60"
   ]
  },
  {
   "cell_type": "markdown",
   "id": "a9053322",
   "metadata": {},
   "source": [
    "# Solution"
   ]
  },
  {
   "cell_type": "code",
   "execution_count": 126,
   "id": "6c10a0f7",
   "metadata": {},
   "outputs": [
    {
     "name": "stdout",
     "output_type": "stream",
     "text": [
      "30\n",
      "8\n",
      "60\n",
      "0\n",
      "-4\n",
      "1\n"
     ]
    }
   ],
   "source": [
    "def solution(xs):\n",
    "    \n",
    "    if(len(xs) == 1):\n",
    "            return str(xs[0])\n",
    "    \n",
    "    maxneg = -999999999999\n",
    "    countneg = 0\n",
    "    count0 = 0\n",
    "    prod = 1\n",
    "                                        #count negatives and 0s\n",
    "    for i in xs:\n",
    "        if(i<0):\n",
    "            countneg+=1\n",
    "            maxneg = max(maxneg, i)\n",
    "        if(i==0):\n",
    "            count0+=1\n",
    "            continue\n",
    "            \n",
    "        prod=prod*i    \n",
    "              \n",
    "            \n",
    "                                        #if all 0s return 0\n",
    "    if(count0 == len(xs)):\n",
    "        return '0'\n",
    "                                        #edge case of only -s and 0s\n",
    "    if(countneg%2 == 1):\n",
    "        \n",
    "        if(countneg ==1 and count0 > 0 and (count0 + countneg == len(xs))):\n",
    "            return '0'\n",
    "        if(countneg ==1 and count0==0):\n",
    "            return '0'\n",
    "    \n",
    "        prod = (int)(prod / maxneg)\n",
    "        \n",
    "        \n",
    "    return str(prod)\n",
    "print(solution([2, -3, 1, 0, -5]))\n",
    "print(solution([2, 0, 2, 2, 0]))\n",
    "print(solution([-2, -3, 4, -5]))\n",
    "print(solution([0, 0]))\n",
    "print(solution([-4]))\n",
    "print(solution([1, 0]))"
   ]
  },
  {
   "cell_type": "markdown",
   "id": "4abeb666",
   "metadata": {},
   "source": [
    "# Question 3"
   ]
  },
  {
   "cell_type": "markdown",
   "id": "d0a203fd",
   "metadata": {},
   "source": [
    "Bunny Worker Locations\n",
    "======================\n",
    "\n",
    "Keeping track of Commander Lambda's many bunny workers is starting to get tricky. You've been tasked with writing a program to match bunny worker IDs to cell locations.\n",
    "\n",
    "The LAMBCHOP doomsday device takes up much of the interior of Commander Lambda's space station, and as a result the work areas have an unusual layout. They are stacked in a triangular shape, and the bunny workers are given numerical IDs starting from the corner, as follows:\n",
    "\n",
    "| 7\n",
    "| 4 8\n",
    "| 2 5 9\n",
    "| 1 3 6 10\n",
    "\n",
    "Each cell can be represented as points (x, y), with x being the distance from the vertical wall, and y being the height from the ground. \n",
    "\n",
    "For example, the bunny worker at (1, 1) has ID 1, the bunny worker at (3, 2) has ID 9, and the bunny worker at (2,3) has ID 8. This pattern of numbering continues indefinitely (Commander Lambda has been adding a LOT of workers). \n",
    "\n",
    "Write a function solution(x, y) which returns the worker ID of the bunny at location (x, y). Each value of x and y will be at least 1 and no greater than 100,000. Since the worker ID can be very large, return your solution as a string representation of the number.\n",
    "\n",
    "Languages\n",
    "=========\n",
    "\n",
    "To provide a Java solution, edit Solution.java\n",
    "To provide a Python solution, edit solution.py\n",
    "\n",
    "Test cases\n",
    "==========\n",
    "Your code should pass the following test cases.\n",
    "Note that it may also be run against hidden test cases not shown here.\n",
    "\n",
    "-- Java cases --\n",
    "Input:\n",
    "Solution.solution(3, 2)\n",
    "Output:\n",
    "    9\n",
    "\n",
    "Input:\n",
    "Solution.solution(5, 10)\n",
    "Output:\n",
    "    96\n",
    "\n",
    "-- Python cases --\n",
    "Input:\n",
    "solution.solution(5, 10)\n",
    "Output:\n",
    "    96\n",
    "\n",
    "Input:\n",
    "solution.solution(3, 2)\n",
    "Output:\n",
    "    9"
   ]
  },
  {
   "cell_type": "markdown",
   "id": "f6c0a1ea",
   "metadata": {},
   "source": [
    "# Solution"
   ]
  },
  {
   "cell_type": "code",
   "execution_count": 144,
   "id": "dc569de3",
   "metadata": {},
   "outputs": [
    {
     "data": {
      "text/plain": [
       "'96.0'"
      ]
     },
     "execution_count": 144,
     "metadata": {},
     "output_type": "execute_result"
    }
   ],
   "source": [
    "def solution(x,y):\n",
    "    ID = ((x + y -1)*(x+y-2))/2 +x\n",
    "    return str(ID)\n",
    "solution(5,10)\n"
   ]
  },
  {
   "cell_type": "markdown",
   "id": "12b724c0",
   "metadata": {},
   "source": [
    "# Question 4"
   ]
  },
  {
   "cell_type": "markdown",
   "id": "253f5af7",
   "metadata": {},
   "source": [
    "Doomsday Fuel\n",
    "=============\n",
    "\n",
    "Making fuel for the LAMBCHOP's reactor core is a tricky process because of the exotic matter involved. It starts as raw ore, then during processing, begins randomly changing between forms, eventually reaching a stable form. There may be multiple stable forms that a sample could ultimately reach, not all of which are useful as fuel. \n",
    "\n",
    "Commander Lambda has tasked you to help the scientists increase fuel creation efficiency by predicting the end state of a given ore sample. You have carefully studied the different structures that the ore can take and which transitions it undergoes. It appears that, while random, the probability of each structure transforming is fixed. That is, each time the ore is in 1 state, it has the same probabilities of entering the next state (which might be the same state).  You have recorded the observed transitions in a matrix. The others in the lab have hypothesized more exotic forms that the ore can become, but you haven't seen all of them.\n",
    "\n",
    "Write a function solution(m) that takes an array of array of nonnegative ints representing how many times that state has gone to the next state and return an array of ints for each terminal state giving the exact probabilities of each terminal state, represented as the numerator for each state, then the denominator for all of them at the end and in simplest form. The matrix is at most 10 by 10. It is guaranteed that no matter which state the ore is in, there is a path from that state to a terminal state. That is, the processing will always eventually end in a stable state. The ore starts in state 0. The denominator will fit within a signed 32-bit integer during the calculation, as long as the fraction is simplified regularly. \n",
    "\n",
    "For example, consider the matrix m:\n",
    "[\n",
    "  [0,1,0,0,0,1],  # s0, the initial state, goes to s1 and s5 with equal probability\n",
    "  [4,0,0,3,2,0],  # s1 can become s0, s3, or s4, but with different probabilities\n",
    "  [0,0,0,0,0,0],  # s2 is terminal, and unreachable (never observed in practice)\n",
    "  [0,0,0,0,0,0],  # s3 is terminal\n",
    "  [0,0,0,0,0,0],  # s4 is terminal\n",
    "  [0,0,0,0,0,0],  # s5 is terminal\n",
    "]\n",
    "So, we can consider different paths to terminal states, such as:\n",
    "s0 -> s1 -> s3\n",
    "s0 -> s1 -> s0 -> s1 -> s0 -> s1 -> s4\n",
    "s0 -> s1 -> s0 -> s5\n",
    "Tracing the probabilities of each, we find that\n",
    "s2 has probability 0\n",
    "s3 has probability 3/14\n",
    "s4 has probability 1/7\n",
    "s5 has probability 9/14\n",
    "So, putting that together, and making a common denominator, gives an answer in the form of\n",
    "[s2.numerator, s3.numerator, s4.numerator, s5.numerator, denominator] which is\n",
    "[0, 3, 2, 9, 14].\n",
    "\n",
    "Languages\n",
    "=========\n",
    "\n",
    "To provide a Java solution, edit Solution.java\n",
    "To provide a Python solution, edit solution.py\n",
    "\n",
    "Test cases\n",
    "==========\n",
    "Your code should pass the following test cases.\n",
    "Note that it may also be run against hidden test cases not shown here.\n",
    "\n",
    "-- Java cases --\n",
    "Input:\n",
    "Solution.solution({{0, 2, 1, 0, 0}, {0, 0, 0, 3, 4}, {0, 0, 0, 0, 0}, {0, 0, 0, 0,0}, {0, 0, 0, 0, 0}})\n",
    "Output:\n",
    "    [7, 6, 8, 21]\n",
    "\n",
    "Input:\n",
    "Solution.solution({{0, 1, 0, 0, 0, 1}, {4, 0, 0, 3, 2, 0}, {0, 0, 0, 0, 0, 0}, {0, 0, 0, 0, 0, 0}, {0, 0, 0, 0, 0, 0}, {0, 0, 0, 0, 0, 0}})\n",
    "Output:\n",
    "    [0, 3, 2, 9, 14]\n",
    "\n",
    "-- Python cases --\n",
    "Input:\n",
    "solution.solution([[0, 2, 1, 0, 0], [0, 0, 0, 3, 4], [0, 0, 0, 0, 0], [0, 0, 0, 0,0], [0, 0, 0, 0, 0]])\n",
    "Output:\n",
    "    [7, 6, 8, 21]\n",
    "\n",
    "Input:\n",
    "solution.solution([[0, 1, 0, 0, 0, 1], [4, 0, 0, 3, 2, 0], [0, 0, 0, 0, 0, 0], [0, 0, 0, 0, 0, 0], [0, 0, 0, 0, 0, 0], [0, 0, 0, 0, 0, 0]])\n",
    "Output:\n",
    "    [0, 3, 2, 9, 14]\n"
   ]
  },
  {
   "cell_type": "code",
   "execution_count": 296,
   "id": "7af2cdf6",
   "metadata": {},
   "outputs": [
    {
     "name": "stdout",
     "output_type": "stream",
     "text": [
      "21.0\n",
      "[[0.         0.66666667 0.33333333 0.         0.        ]\n",
      " [0.         0.         0.         0.42857143 0.57142857]]\n",
      "18.0\n",
      "[[0.         0.5        0.         0.         0.         0.5       ]\n",
      " [0.44444444 0.         0.         0.33333333 0.22222222 0.        ]]\n"
     ]
    },
    {
     "data": {
      "text/plain": [
       "[0, 3, 2, 9, 14]"
      ]
     },
     "execution_count": 296,
     "metadata": {},
     "output_type": "execute_result"
    }
   ],
   "source": [
    "import numpy as np\n",
    "\n",
    "def solution(m):\n",
    "    terminal = []\n",
    "    active = []\n",
    "    \n",
    "    for rowN, row in enumerate(m):\n",
    "        if (sum(row)):\n",
    "            active.append(rowN)\n",
    "        else:\n",
    "            terminal.append(rowN)\n",
    "        \n",
    "    \n",
    "    m = np.matrix(m, dtype = float)[active,:]\n",
    "    \n",
    "    cd = np.prod(m.sum(1))\n",
    "    print(cd)\n",
    "    \n",
    "    P = m / m.sum(1)\n",
    "    print(P)\n",
    "    \n",
    "    Q = P[:,active]\n",
    "    R = P[:,terminal]\n",
    "\n",
    "    I = np.identity(len(Q))\n",
    "\n",
    "    \n",
    "    N = (I - Q) ** (-1)   \n",
    "    \n",
    "    B = N[0] * R * cd / np.linalg.det(N)\n",
    "\n",
    "    B = B.round().astype(int).A1                   \n",
    "    gcd = np.gcd.reduce(B)\n",
    "    B = np.append(B, B.sum())   \n",
    "    B = (B / gcd).astype(int)\n",
    "    return np.ndarray.tolist(B)\n",
    "    \n",
    "    \n",
    "solution([[0, 2, 1, 0, 0], [0, 0, 0, 3, 4], [0, 0, 0, 0, 0], [0, 0, 0, 0, 0], [0, 0, 0, 0, 0]])  \n",
    "solution([[0, 1, 0, 0, 0, 1], [4, 0, 0, 3, 2, 0], [0, 0, 0, 0, 0, 0], [0, 0, 0, 0, 0, 0], [0, 0, 0, 0, 0, 0], [0, 0, 0, 0, 0, 0]])"
   ]
  },
  {
   "cell_type": "markdown",
   "id": "288d2f92",
   "metadata": {},
   "source": [
    "# Question 5"
   ]
  },
  {
   "cell_type": "markdown",
   "id": "62b7d6b4",
   "metadata": {},
   "source": [
    "Fuel Injection Perfection\n",
    "=========================\n",
    "\n",
    "Commander Lambda has asked for your help to refine the automatic quantum antimatter fuel injection system for the LAMBCHOP doomsday device. It's a great chance for you to get a closer look at the LAMBCHOP -- and maybe sneak in a bit of sabotage while you're at it -- so you took the job gladly. \n",
    "\n",
    "Quantum antimatter fuel comes in small pellets, which is convenient since the many moving parts of the LAMBCHOP each need to be fed fuel one pellet at a time. However, minions dump pellets in bulk into the fuel intake. You need to figure out the most efficient way to sort and shift the pellets down to a single pellet at a time. \n",
    "\n",
    "The fuel control mechanisms have three operations: \n",
    "\n",
    "1) Add one fuel pellet\n",
    "2) Remove one fuel pellet\n",
    "3) Divide the entire group of fuel pellets by 2 (due to the destructive energy released when a quantum antimatter pellet is cut in half, the safety controls will only allow this to happen if there is an even number of pellets)\n",
    "\n",
    "Write a function called solution(n) which takes a positive integer as a string and returns the minimum number of operations needed to transform the number of pellets to 1. The fuel intake control panel can only display a number up to 309 digits long, so there won't ever be more pellets than you can express in that many digits.\n",
    "\n",
    "For example:\n",
    "solution(4) returns 2: 4 -> 2 -> 1\n",
    "solution(15) returns 5: 15 -> 16 -> 8 -> 4 -> 2 -> 1\n",
    "Quantum antimatter fuel comes in small pellets, which is convenient since the many moving parts of the LAMBCHOP each need to be fed fuel one pellet at a time. However, minions dump pellets in bulk into the fuel intake. You need to figure out the most efficient way to sort and shift the pellets down to a single pellet at a time. \n",
    "\n",
    "The fuel control mechanisms have three operations: \n",
    "\n",
    "1) Add one fuel pellet\n",
    "2) Remove one fuel pellet\n",
    "3) Divide the entire group of fuel pellets by 2 (due to the destructive energy released when a quantum antimatter pellet is cut in half, the safety controls will only allow this to happen if there is an even number of pellets)\n",
    "\n",
    "Write a function called solution(n) which takes a positive integer as a string and returns the minimum number of operations needed to transform the number of pellets to 1. The fuel intake control panel can only display a number up to 309 digits long, so there won't ever be more pellets than you can express in that many digits.\n",
    "\n",
    "For example:\n",
    "solution(4) returns 2: 4 -> 2 -> 1\n",
    "solution(15) returns 5: 15 -> 16 -> 8 -> 4 -> 2 -> 1\n",
    "\n",
    "Languages\n",
    "=========\n",
    "\n",
    "To provide a Python solution, edit solution.py\n",
    "To provide a Java solution, edit Solution.java\n",
    "\n",
    "Test cases\n",
    "==========\n",
    "Your code should pass the following test cases.\n",
    "Note that it may also be run against hidden test cases not shown here.\n",
    "\n",
    "-- Python cases --\n",
    "Input:\n",
    "solution.solution('15')\n",
    "Output:\n",
    "    5\n",
    "\n",
    "Input:\n",
    "solution.solution('4')\n",
    "Output:\n",
    "    2\n",
    "\n",
    "-- Java cases --\n",
    "Input:\n",
    "Solution.solution('4')\n",
    "Output:\n",
    "    2\n",
    "\n",
    "Input:\n",
    "Solution.solution('15')\n",
    "Output:\n",
    "    5"
   ]
  },
  {
   "cell_type": "code",
   "execution_count": 309,
   "id": "86b972fe",
   "metadata": {},
   "outputs": [
    {
     "name": "stdout",
     "output_type": "stream",
     "text": [
      "15\n",
      "16\n",
      "8.0\n",
      "4.0\n",
      "2.0\n"
     ]
    },
    {
     "data": {
      "text/plain": [
       "5"
      ]
     },
     "execution_count": 309,
     "metadata": {},
     "output_type": "execute_result"
    }
   ],
   "source": [
    "def solution(n):\n",
    "    n = int(n)\n",
    "    actions = 0;\n",
    "    while n > 1:\n",
    "        print(n)\n",
    "        if(n % 2 == 0):\n",
    "            n /= 2\n",
    "        elif(n == 3) or (n % 4 == 1):\n",
    "            n -= 1\n",
    "        else:\n",
    "            n += 1\n",
    "            \n",
    "        actions +=1\n",
    "    return actions\n",
    "\n",
    "\n",
    "solution(\"15\")\n",
    "#solution(3)"
   ]
  },
  {
   "cell_type": "markdown",
   "id": "64f0819f",
   "metadata": {},
   "source": [
    "# Question 6"
   ]
  },
  {
   "cell_type": "markdown",
   "id": "04bdd8fb",
   "metadata": {},
   "source": [
    "Bomb, Baby!\n",
    "===========\n",
    "\n",
    "You're so close to destroying the LAMBCHOP doomsday device you can taste it! But in order to do so, you need to deploy special self-replicating bombs designed for you by the brightest scientists on Bunny Planet. There are two types: Mach bombs (M) and Facula bombs (F). The bombs, once released into the LAMBCHOP's inner workings, will automatically deploy to all the strategic points you've identified and destroy them at the same time. \n",
    "\n",
    "But there's a few catches. First, the bombs self-replicate via one of two distinct processes: \n",
    "Every Mach bomb retrieves a sync unit from a Facula bomb; for every Mach bomb, a Facula bomb is created;\n",
    "Every Facula bomb spontaneously creates a Mach bomb.\n",
    "\n",
    "For example, if you had 3 Mach bombs and 2 Facula bombs, they could either produce 3 Mach bombs and 5 Facula bombs, or 5 Mach bombs and 2 Facula bombs. The replication process can be changed each cycle. \n",
    "\n",
    "Second, you need to ensure that you have exactly the right number of Mach and Facula bombs to destroy the LAMBCHOP device. Too few, and the device might survive. Too many, and you might overload the mass capacitors and create a singularity at the heart of the space station - not good! \n",
    "\n",
    "And finally, you were only able to smuggle one of each type of bomb - one Mach, one Facula - aboard the ship when you arrived, so that's all you have to start with. (Thus it may be impossible to deploy the bombs to destroy the LAMBCHOP, but that's not going to stop you from trying!) \n",
    "\n",
    "You need to know how many replication cycles (generations) it will take to generate the correct amount of bombs to destroy the LAMBCHOP. Write a function solution(M, F) where M and F are the number of Mach and Facula bombs needed. Return the fewest number of generations (as a string) that need to pass before you'll have the exact number of bombs necessary to destroy the LAMBCHOP, or the string \"impossible\" if this can't be done! M and F will be string representations of positive integers no larger than 10^50. For example, if M = \"2\" and F = \"1\", one generation would need to pass, so the solution would be \"1\". However, if M = \"2\" and F = \"4\", it would not be possible.\n",
    "\n",
    "Languages\n",
    "=========\n",
    "\n",
    "To provide a Java solution, edit Solution.java\n",
    "To provide a Python solution, edit solution.py\n",
    "\n",
    "Test cases\n",
    "==========\n",
    "Your code should pass the following test cases.\n",
    "Note that it may also be run against hidden test cases not shown here.\n",
    "\n",
    "-- Java cases --\n",
    "Input:\n",
    "Solution.solution('2', '1')\n",
    "Output:\n",
    "    1\n",
    "\n",
    "Input:\n",
    "Solution.solution('4', '7')\n",
    "Output:\n",
    "    4\n",
    "\n",
    "-- Python cases --\n",
    "Input:\n",
    "solution.solution('4', '7')\n",
    "Output:\n",
    "    4\n",
    "\n",
    "Input:\n",
    "solution.solution('2', '1')\n",
    "Output:\n",
    "    1"
   ]
  },
  {
   "cell_type": "code",
   "execution_count": 328,
   "id": "2ab436a2",
   "metadata": {},
   "outputs": [
    {
     "data": {
      "text/plain": [
       "'4'"
      ]
     },
     "execution_count": 328,
     "metadata": {},
     "output_type": "execute_result"
    }
   ],
   "source": [
    "def solution(M, F):\n",
    "    M = int(M)\n",
    "    F = int(F)\n",
    "    \n",
    "    count = 0\n",
    "    ops = 0\n",
    "    while(M > 1) or (F > 1):\n",
    "        \n",
    "        if(M == F):\n",
    "            return \"impossible\"\n",
    "        \n",
    "        elif(M > F):\n",
    "            ops = int(M/F)\n",
    "            if(M % F == 0):\n",
    "                ops -= 1\n",
    "            M -= (F * ops)\n",
    "            count += ops\n",
    "            \n",
    "        elif(F > M):\n",
    "            ops = int(F/M)\n",
    "            if(F % M == 0):\n",
    "                ops -= 1\n",
    "            \n",
    "            F -= (M * ops)\n",
    "            count += ops\n",
    "            \n",
    "        \n",
    "            \n",
    "    return str(count)\n",
    "    \n",
    "solution(\"4\",\"7\")    "
   ]
  },
  {
   "cell_type": "code",
   "execution_count": null,
   "id": "43da8ee2",
   "metadata": {},
   "outputs": [],
   "source": []
  },
  {
   "cell_type": "code",
   "execution_count": null,
   "id": "1cb83878",
   "metadata": {},
   "outputs": [],
   "source": []
  }
 ],
 "metadata": {
  "kernelspec": {
   "display_name": "Python 3",
   "language": "python",
   "name": "python3"
  },
  "language_info": {
   "codemirror_mode": {
    "name": "ipython",
    "version": 3
   },
   "file_extension": ".py",
   "mimetype": "text/x-python",
   "name": "python",
   "nbconvert_exporter": "python",
   "pygments_lexer": "ipython3",
   "version": "3.8.8"
  }
 },
 "nbformat": 4,
 "nbformat_minor": 5
}
